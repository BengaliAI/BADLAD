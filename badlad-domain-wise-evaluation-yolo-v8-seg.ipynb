{
 "cells": [
  {
   "cell_type": "code",
   "execution_count": 1,
   "id": "7fabbe98",
   "metadata": {
    "_cell_guid": "b1076dfc-b9ad-4769-8c92-a6c4dae69d19",
    "_uuid": "8f2839f25d086af736a60e9eeb907d3b93b6e0e5",
    "execution": {
     "iopub.execute_input": "2023-04-28T17:30:27.268171Z",
     "iopub.status.busy": "2023-04-28T17:30:27.266907Z",
     "iopub.status.idle": "2023-04-28T17:30:42.748883Z",
     "shell.execute_reply": "2023-04-28T17:30:42.747522Z"
    },
    "papermill": {
     "duration": 15.489096,
     "end_time": "2023-04-28T17:30:42.751733",
     "exception": false,
     "start_time": "2023-04-28T17:30:27.262637",
     "status": "completed"
    },
    "tags": []
   },
   "outputs": [
    {
     "name": "stdout",
     "output_type": "stream",
     "text": [
      "Collecting ultralytics\r\n",
      "  Downloading ultralytics-8.0.89-py3-none-any.whl (561 kB)\r\n",
      "\u001b[2K     \u001b[90m━━━━━━━━━━━━━━━━━━━━━━━━━━━━━━━━━━━━━━━\u001b[0m \u001b[32m561.4/561.4 kB\u001b[0m \u001b[31m9.0 MB/s\u001b[0m eta \u001b[36m0:00:00\u001b[0m\r\n",
      "\u001b[?25hRequirement already satisfied: psutil in /opt/conda/lib/python3.7/site-packages (from ultralytics) (5.9.3)\r\n",
      "Requirement already satisfied: seaborn>=0.11.0 in /opt/conda/lib/python3.7/site-packages (from ultralytics) (0.12.2)\r\n",
      "Collecting opencv-python>=4.6.0\r\n",
      "  Downloading opencv_python-4.7.0.72-cp37-abi3-manylinux_2_17_x86_64.manylinux2014_x86_64.whl (61.8 MB)\r\n",
      "\u001b[2K     \u001b[90m━━━━━━━━━━━━━━━━━━━━━━━━━━━━━━━━━━━━━━━━\u001b[0m \u001b[32m61.8/61.8 MB\u001b[0m \u001b[31m19.5 MB/s\u001b[0m eta \u001b[36m0:00:00\u001b[0m\r\n",
      "\u001b[?25hRequirement already satisfied: torchvision>=0.8.1 in /opt/conda/lib/python3.7/site-packages (from ultralytics) (0.14.0)\r\n",
      "Requirement already satisfied: sentry-sdk in /opt/conda/lib/python3.7/site-packages (from ultralytics) (1.18.0)\r\n",
      "Requirement already satisfied: scipy>=1.4.1 in /opt/conda/lib/python3.7/site-packages (from ultralytics) (1.7.3)\r\n",
      "Requirement already satisfied: torch>=1.7.0 in /opt/conda/lib/python3.7/site-packages (from ultralytics) (1.13.0)\r\n",
      "Requirement already satisfied: matplotlib>=3.2.2 in /opt/conda/lib/python3.7/site-packages (from ultralytics) (3.5.3)\r\n",
      "Collecting thop>=0.1.1\r\n",
      "  Downloading thop-0.1.1.post2209072238-py3-none-any.whl (15 kB)\r\n",
      "Requirement already satisfied: pandas>=1.1.4 in /opt/conda/lib/python3.7/site-packages (from ultralytics) (1.3.5)\r\n",
      "Requirement already satisfied: requests>=2.23.0 in /opt/conda/lib/python3.7/site-packages (from ultralytics) (2.28.2)\r\n",
      "Requirement already satisfied: PyYAML>=5.3.1 in /opt/conda/lib/python3.7/site-packages (from ultralytics) (6.0)\r\n",
      "Requirement already satisfied: Pillow>=7.1.2 in /opt/conda/lib/python3.7/site-packages (from ultralytics) (9.4.0)\r\n",
      "Requirement already satisfied: tqdm>=4.64.0 in /opt/conda/lib/python3.7/site-packages (from ultralytics) (4.64.1)\r\n",
      "Requirement already satisfied: fonttools>=4.22.0 in /opt/conda/lib/python3.7/site-packages (from matplotlib>=3.2.2->ultralytics) (4.38.0)\r\n",
      "Requirement already satisfied: pyparsing>=2.2.1 in /opt/conda/lib/python3.7/site-packages (from matplotlib>=3.2.2->ultralytics) (3.0.9)\r\n",
      "Requirement already satisfied: packaging>=20.0 in /opt/conda/lib/python3.7/site-packages (from matplotlib>=3.2.2->ultralytics) (23.0)\r\n",
      "Requirement already satisfied: cycler>=0.10 in /opt/conda/lib/python3.7/site-packages (from matplotlib>=3.2.2->ultralytics) (0.11.0)\r\n",
      "Requirement already satisfied: python-dateutil>=2.7 in /opt/conda/lib/python3.7/site-packages (from matplotlib>=3.2.2->ultralytics) (2.8.2)\r\n",
      "Requirement already satisfied: numpy>=1.17 in /opt/conda/lib/python3.7/site-packages (from matplotlib>=3.2.2->ultralytics) (1.21.6)\r\n",
      "Requirement already satisfied: kiwisolver>=1.0.1 in /opt/conda/lib/python3.7/site-packages (from matplotlib>=3.2.2->ultralytics) (1.4.4)\r\n",
      "Requirement already satisfied: pytz>=2017.3 in /opt/conda/lib/python3.7/site-packages (from pandas>=1.1.4->ultralytics) (2023.3)\r\n",
      "Requirement already satisfied: certifi>=2017.4.17 in /opt/conda/lib/python3.7/site-packages (from requests>=2.23.0->ultralytics) (2022.12.7)\r\n",
      "Requirement already satisfied: charset-normalizer<4,>=2 in /opt/conda/lib/python3.7/site-packages (from requests>=2.23.0->ultralytics) (2.1.1)\r\n",
      "Requirement already satisfied: urllib3<1.27,>=1.21.1 in /opt/conda/lib/python3.7/site-packages (from requests>=2.23.0->ultralytics) (1.26.14)\r\n",
      "Requirement already satisfied: idna<4,>=2.5 in /opt/conda/lib/python3.7/site-packages (from requests>=2.23.0->ultralytics) (3.4)\r\n",
      "Requirement already satisfied: typing_extensions in /opt/conda/lib/python3.7/site-packages (from seaborn>=0.11.0->ultralytics) (4.4.0)\r\n",
      "Requirement already satisfied: six>=1.5 in /opt/conda/lib/python3.7/site-packages (from python-dateutil>=2.7->matplotlib>=3.2.2->ultralytics) (1.16.0)\r\n",
      "Installing collected packages: opencv-python, thop, ultralytics\r\n",
      "  Attempting uninstall: opencv-python\r\n",
      "    Found existing installation: opencv-python 4.5.4.60\r\n",
      "    Uninstalling opencv-python-4.5.4.60:\r\n",
      "      Successfully uninstalled opencv-python-4.5.4.60\r\n",
      "Successfully installed opencv-python-4.7.0.72 thop-0.1.1.post2209072238 ultralytics-8.0.89\r\n",
      "\u001b[33mWARNING: Running pip as the 'root' user can result in broken permissions and conflicting behaviour with the system package manager. It is recommended to use a virtual environment instead: https://pip.pypa.io/warnings/venv\u001b[0m\u001b[33m\r\n",
      "\u001b[0m"
     ]
    }
   ],
   "source": [
    "!pip install ultralytics"
   ]
  },
  {
   "cell_type": "code",
   "execution_count": 2,
   "id": "1eb9a0a3",
   "metadata": {
    "execution": {
     "iopub.execute_input": "2023-04-28T17:30:42.761249Z",
     "iopub.status.busy": "2023-04-28T17:30:42.760675Z",
     "iopub.status.idle": "2023-04-28T17:30:48.607846Z",
     "shell.execute_reply": "2023-04-28T17:30:48.606522Z"
    },
    "papermill": {
     "duration": 5.855071,
     "end_time": "2023-04-28T17:30:48.610789",
     "exception": false,
     "start_time": "2023-04-28T17:30:42.755718",
     "status": "completed"
    },
    "tags": []
   },
   "outputs": [],
   "source": [
    "#-------------------\n",
    "# imports\n",
    "#-------------------\n",
    "import yaml\n",
    "import io\n",
    "import os\n",
    "from ultralytics import YOLO\n",
    "#-------------------\n",
    "# vars\n",
    "#-------------------\n",
    "# path of yolo weights\n",
    "weight_path=\"/kaggle/input/badlad-domain-test-yolo-v8-seg/best.pt\"\n",
    "# domain wise folder master path\n",
    "data_dir=\"/kaggle/input/badlad-domain-test-yolo-v8-seg/data/\"\n",
    "# load a pretrained model\n",
    "model = YOLO(weight_path)  \n",
    "# domains\n",
    "domains=os.listdir(data_dir)\n"
   ]
  },
  {
   "cell_type": "code",
   "execution_count": 3,
   "id": "462d1239",
   "metadata": {
    "execution": {
     "iopub.execute_input": "2023-04-28T17:30:48.621280Z",
     "iopub.status.busy": "2023-04-28T17:30:48.619713Z",
     "iopub.status.idle": "2023-04-28T17:53:51.334065Z",
     "shell.execute_reply": "2023-04-28T17:53:51.332885Z"
    },
    "papermill": {
     "duration": 1382.722344,
     "end_time": "2023-04-28T17:53:51.336848",
     "exception": false,
     "start_time": "2023-04-28T17:30:48.614504",
     "status": "completed"
    },
    "tags": []
   },
   "outputs": [
    {
     "name": "stdout",
     "output_type": "stream",
     "text": [
      "--------------------------------------------------------\n",
      "--------------------------------------------------------\n",
      "\t domain:Government Document\n",
      "--------------------------------------------------------\n",
      "--------------------------------------------------------\n"
     ]
    },
    {
     "name": "stderr",
     "output_type": "stream",
     "text": [
      "Ultralytics YOLOv8.0.89 🚀 Python-3.7.12 torch-1.13.0 CUDA:0 (Tesla P100-PCIE-16GB, 16281MiB)\n",
      "YOLOv8m-seg summary (fused): 245 layers, 27224700 parameters, 0 gradients, 110.0 GFLOPs\n",
      "Downloading https://ultralytics.com/assets/Arial.ttf to /root/.config/Ultralytics/Arial.ttf...\n"
     ]
    },
    {
     "data": {
      "application/vnd.jupyter.widget-view+json": {
       "model_id": "75a5508656ff4c34bc9736ba75461ac8",
       "version_major": 2,
       "version_minor": 0
      },
      "text/plain": [
       "  0%|          | 0.00/755k [00:00<?, ?B/s]"
      ]
     },
     "metadata": {},
     "output_type": "display_data"
    },
    {
     "name": "stderr",
     "output_type": "stream",
     "text": [
      "\u001b[34m\u001b[1mval: \u001b[0mScanning /kaggle/input/badlad-domain-test-yolo-v8-seg/data/Government Document/labels... 514 images, 0 backgrounds, 0 corrupt: 100%|██████████| 514/514 [00:08<00:00, 59.22it/s]\n",
      "\u001b[34m\u001b[1mval: \u001b[0mWARNING ⚠️ /kaggle/input/badlad-domain-test-yolo-v8-seg/data/Government Document/images/02bf7f8a-976d-4b51-84ce-2a09cc17578e.png: 1 duplicate labels removed\n",
      "\u001b[34m\u001b[1mval: \u001b[0mWARNING ⚠️ /kaggle/input/badlad-domain-test-yolo-v8-seg/data/Government Document/images/4e71f826-3b0e-4851-bc85-bcdd11442f98.png: 1 duplicate labels removed\n",
      "\u001b[34m\u001b[1mval: \u001b[0mWARNING ⚠️ /kaggle/input/badlad-domain-test-yolo-v8-seg/data/Government Document/images/7e5c912f-5a38-48b3-8369-fa7710747337.png: 1 duplicate labels removed\n",
      "\u001b[34m\u001b[1mval: \u001b[0mWARNING ⚠️ Cache directory /kaggle/input/badlad-domain-test-yolo-v8-seg/data/Government Document is not writeable, cache not saved.\n",
      "                 Class     Images  Instances      Box(P          R      mAP50  mAP50-95)     Mask(P          R      mAP50  mAP50-95): 100%|██████████| 33/33 [00:53<00:00,  1.61s/it]\n",
      "                   all        514      30180      0.851      0.834       0.88      0.623      0.789      0.758      0.791      0.392\n",
      "             paragraph        514       1497      0.785      0.778      0.851       0.68      0.797      0.767       0.84      0.549\n",
      "              text_box        514      27900      0.841      0.774      0.826      0.399      0.628      0.553      0.564      0.221\n",
      "                 image        514        482      0.859      0.797      0.857      0.505      0.847       0.77      0.821      0.348\n",
      "                 table        514        301      0.919      0.987      0.987      0.909      0.884      0.944      0.939       0.45\n",
      "Speed: 0.7ms preprocess, 11.0ms inference, 0.0ms loss, 2.8ms postprocess per image\n",
      "Results saved to \u001b[1mruns/segment/val\u001b[0m\n",
      "Ultralytics YOLOv8.0.89 🚀 Python-3.7.12 torch-1.13.0 CUDA:0 (Tesla P100-PCIE-16GB, 16281MiB)\n"
     ]
    },
    {
     "name": "stdout",
     "output_type": "stream",
     "text": [
      "--------------------------------------------------------\n",
      "--------------------------------------------------------\n",
      "\t domain:Liberation War Document\n",
      "--------------------------------------------------------\n",
      "--------------------------------------------------------\n"
     ]
    },
    {
     "name": "stderr",
     "output_type": "stream",
     "text": [
      "\u001b[34m\u001b[1mval: \u001b[0mScanning /kaggle/input/badlad-domain-test-yolo-v8-seg/data/Liberation War Document/labels... 402 images, 0 backgrounds, 0 corrupt: 100%|██████████| 402/402 [00:05<00:00, 77.52it/s]\n",
      "\u001b[34m\u001b[1mval: \u001b[0mWARNING ⚠️ /kaggle/input/badlad-domain-test-yolo-v8-seg/data/Liberation War Document/images/e56fbd74-eeb0-440a-935f-097dc00a419f.png: 1 duplicate labels removed\n",
      "\u001b[34m\u001b[1mval: \u001b[0mWARNING ⚠️ Cache directory /kaggle/input/badlad-domain-test-yolo-v8-seg/data/Liberation War Document is not writeable, cache not saved.\n",
      "                 Class     Images  Instances      Box(P          R      mAP50  mAP50-95)     Mask(P          R      mAP50  mAP50-95): 100%|██████████| 26/26 [00:35<00:00,  1.35s/it]\n",
      "                   all        402       7222      0.902      0.662      0.685      0.497      0.848      0.603      0.597      0.322\n",
      "             paragraph        402       2370      0.956      0.949      0.987      0.856      0.953      0.945      0.984      0.729\n",
      "              text_box        402       4732      0.748      0.793      0.785      0.374       0.66      0.688      0.661      0.245\n",
      "                 image        402         16          1          0     0.0553     0.0127          1          0     0.0496      0.015\n",
      "                 table        402        104      0.904      0.907      0.913      0.744      0.778      0.779      0.692      0.297\n",
      "Speed: 1.2ms preprocess, 11.2ms inference, 0.0ms loss, 2.5ms postprocess per image\n",
      "Results saved to \u001b[1mruns/segment/val2\u001b[0m\n",
      "Ultralytics YOLOv8.0.89 🚀 Python-3.7.12 torch-1.13.0 CUDA:0 (Tesla P100-PCIE-16GB, 16281MiB)\n"
     ]
    },
    {
     "name": "stdout",
     "output_type": "stream",
     "text": [
      "--------------------------------------------------------\n",
      "--------------------------------------------------------\n",
      "\t domain:literature_and_Books\n",
      "--------------------------------------------------------\n",
      "--------------------------------------------------------\n"
     ]
    },
    {
     "name": "stderr",
     "output_type": "stream",
     "text": [
      "\u001b[34m\u001b[1mval: \u001b[0mScanning /kaggle/input/badlad-domain-test-yolo-v8-seg/data/literature_and_Books/labels... 11674 images, 0 backgrounds, 1 corrupt: 100%|██████████| 11674/11674 [02:53<00:00, 67.15it/s]\n",
      "\u001b[34m\u001b[1mval: \u001b[0mWARNING ⚠️ /kaggle/input/badlad-domain-test-yolo-v8-seg/data/literature_and_Books/images/0ae9286c-8ec6-4a2d-917b-235f9ed3ac51.png: 1 duplicate labels removed\n",
      "\u001b[34m\u001b[1mval: \u001b[0mWARNING ⚠️ /kaggle/input/badlad-domain-test-yolo-v8-seg/data/literature_and_Books/images/1667218f-2e9d-4be7-b7dc-496f992596a3.png: 1 duplicate labels removed\n",
      "\u001b[34m\u001b[1mval: \u001b[0mWARNING ⚠️ /kaggle/input/badlad-domain-test-yolo-v8-seg/data/literature_and_Books/images/2024b3fa-60b9-4616-8c42-ecb7e1748244.png: 1 duplicate labels removed\n",
      "\u001b[34m\u001b[1mval: \u001b[0mWARNING ⚠️ /kaggle/input/badlad-domain-test-yolo-v8-seg/data/literature_and_Books/images/237e07ec-40ae-4d78-963c-c97e6ac9f7e1.png: ignoring corrupt image/label: non-normalized or out of bounds coordinates [      2.256       1.028]\n",
      "\u001b[34m\u001b[1mval: \u001b[0mWARNING ⚠️ /kaggle/input/badlad-domain-test-yolo-v8-seg/data/literature_and_Books/images/2482b482-1bbd-4584-9ee4-71b056873ba9.png: 1 duplicate labels removed\n",
      "\u001b[34m\u001b[1mval: \u001b[0mWARNING ⚠️ /kaggle/input/badlad-domain-test-yolo-v8-seg/data/literature_and_Books/images/43549348-5317-47eb-b804-d56c58553de5.png: 1 duplicate labels removed\n",
      "\u001b[34m\u001b[1mval: \u001b[0mWARNING ⚠️ /kaggle/input/badlad-domain-test-yolo-v8-seg/data/literature_and_Books/images/63bc56ea-816c-4bd6-87a0-870e05557444.png: 1 duplicate labels removed\n",
      "\u001b[34m\u001b[1mval: \u001b[0mWARNING ⚠️ /kaggle/input/badlad-domain-test-yolo-v8-seg/data/literature_and_Books/images/97ef4be7-1826-4fc4-8ef9-c7ec278ad2a3.png: 1 duplicate labels removed\n",
      "\u001b[34m\u001b[1mval: \u001b[0mWARNING ⚠️ /kaggle/input/badlad-domain-test-yolo-v8-seg/data/literature_and_Books/images/a6a53c41-0c01-49da-996d-0c76deb72691.png: 1 duplicate labels removed\n",
      "\u001b[34m\u001b[1mval: \u001b[0mWARNING ⚠️ /kaggle/input/badlad-domain-test-yolo-v8-seg/data/literature_and_Books/images/b86dbe64-1cd6-4430-9910-7e2d7734b44b.png: 1 duplicate labels removed\n",
      "\u001b[34m\u001b[1mval: \u001b[0mWARNING ⚠️ /kaggle/input/badlad-domain-test-yolo-v8-seg/data/literature_and_Books/images/c37858a1-a150-49e6-b66d-ce2638790a0b.png: 1 duplicate labels removed\n",
      "\u001b[34m\u001b[1mval: \u001b[0mWARNING ⚠️ /kaggle/input/badlad-domain-test-yolo-v8-seg/data/literature_and_Books/images/d7cf1161-b4b6-489a-996d-a384bab3ca25.png: 1 duplicate labels removed\n",
      "\u001b[34m\u001b[1mval: \u001b[0mWARNING ⚠️ Cache directory /kaggle/input/badlad-domain-test-yolo-v8-seg/data/literature_and_Books is not writeable, cache not saved.\n",
      "                 Class     Images  Instances      Box(P          R      mAP50  mAP50-95)     Mask(P          R      mAP50  mAP50-95): 100%|██████████| 730/730 [13:57<00:00,  1.15s/it]\n",
      "                   all      11673     189276      0.709      0.683      0.691       0.52      0.677      0.635      0.637      0.399\n",
      "             paragraph      11673     103382      0.871      0.901      0.939      0.778      0.866      0.886      0.926      0.652\n",
      "              text_box      11673      80570      0.717      0.662      0.682      0.334      0.655      0.579      0.591      0.238\n",
      "                 image      11673       4949      0.797      0.779      0.794      0.682      0.792      0.762      0.774      0.583\n",
      "                 table      11673        375      0.452      0.389       0.35      0.287      0.394      0.315      0.257      0.122\n",
      "Speed: 0.1ms preprocess, 10.0ms inference, 0.0ms loss, 1.8ms postprocess per image\n",
      "Results saved to \u001b[1mruns/segment/val3\u001b[0m\n",
      "Ultralytics YOLOv8.0.89 🚀 Python-3.7.12 torch-1.13.0 CUDA:0 (Tesla P100-PCIE-16GB, 16281MiB)\n"
     ]
    },
    {
     "name": "stdout",
     "output_type": "stream",
     "text": [
      "--------------------------------------------------------\n",
      "--------------------------------------------------------\n",
      "\t domain:new_newspaper\n",
      "--------------------------------------------------------\n",
      "--------------------------------------------------------\n"
     ]
    },
    {
     "name": "stderr",
     "output_type": "stream",
     "text": [
      "\u001b[34m\u001b[1mval: \u001b[0mScanning /kaggle/input/badlad-domain-test-yolo-v8-seg/data/new_newspaper/labels... 65 images, 0 backgrounds, 0 corrupt: 100%|██████████| 65/65 [00:09<00:00,  7.16it/s]\n",
      "\u001b[34m\u001b[1mval: \u001b[0mWARNING ⚠️ Cache directory /kaggle/input/badlad-domain-test-yolo-v8-seg/data/new_newspaper is not writeable, cache not saved.\n",
      "                 Class     Images  Instances      Box(P          R      mAP50  mAP50-95)     Mask(P          R      mAP50  mAP50-95): 100%|██████████| 5/5 [00:39<00:00,  7.85s/it]\n",
      "                   all         65       5705      0.694      0.686      0.693      0.524      0.733      0.528      0.594       0.38\n",
      "             paragraph         65       1902      0.698      0.797      0.797      0.635      0.804      0.692      0.775       0.55\n",
      "              text_box         65       3542      0.619      0.395      0.451      0.254      0.652      0.245      0.368       0.18\n",
      "                 image         65        237      0.839      0.844      0.875      0.742      0.917      0.797      0.871      0.648\n",
      "                 table         65         24      0.619      0.708      0.649      0.464       0.56      0.375      0.364      0.142\n",
      "Speed: 3.7ms preprocess, 14.8ms inference, 0.0ms loss, 5.3ms postprocess per image\n",
      "Results saved to \u001b[1mruns/segment/val4\u001b[0m\n",
      "Ultralytics YOLOv8.0.89 🚀 Python-3.7.12 torch-1.13.0 CUDA:0 (Tesla P100-PCIE-16GB, 16281MiB)\n"
     ]
    },
    {
     "name": "stdout",
     "output_type": "stream",
     "text": [
      "--------------------------------------------------------\n",
      "--------------------------------------------------------\n",
      "\t domain:property_dalil\n",
      "--------------------------------------------------------\n",
      "--------------------------------------------------------\n"
     ]
    },
    {
     "name": "stderr",
     "output_type": "stream",
     "text": [
      "\u001b[34m\u001b[1mval: \u001b[0mScanning /kaggle/input/badlad-domain-test-yolo-v8-seg/data/property_dalil/labels... 328 images, 0 backgrounds, 0 corrupt: 100%|██████████| 328/328 [00:08<00:00, 38.37it/s]\n",
      "\u001b[34m\u001b[1mval: \u001b[0mWARNING ⚠️ Cache directory /kaggle/input/badlad-domain-test-yolo-v8-seg/data/property_dalil is not writeable, cache not saved.\n",
      "                 Class     Images  Instances      Box(P          R      mAP50  mAP50-95)     Mask(P          R      mAP50  mAP50-95): 100%|██████████| 21/21 [00:40<00:00,  1.92s/it]\n",
      "                   all        328       7658      0.574      0.497      0.508      0.321      0.532      0.408      0.397        0.2\n",
      "             paragraph        328        599      0.402      0.631       0.58      0.444      0.456      0.589      0.568      0.387\n",
      "              text_box        328       6012      0.609       0.51      0.519      0.219      0.577       0.42      0.441      0.162\n",
      "                 image        328        930       0.55      0.333      0.364       0.26      0.578       0.31      0.353      0.191\n",
      "                 table        328        117      0.737      0.513       0.57      0.363      0.517      0.311      0.228     0.0627\n",
      "Speed: 0.3ms preprocess, 10.6ms inference, 0.0ms loss, 2.9ms postprocess per image\n",
      "Results saved to \u001b[1mruns/segment/val5\u001b[0m\n",
      "Ultralytics YOLOv8.0.89 🚀 Python-3.7.12 torch-1.13.0 CUDA:0 (Tesla P100-PCIE-16GB, 16281MiB)\n"
     ]
    },
    {
     "name": "stdout",
     "output_type": "stream",
     "text": [
      "--------------------------------------------------------\n",
      "--------------------------------------------------------\n",
      "\t domain:old_newspaper\n",
      "--------------------------------------------------------\n",
      "--------------------------------------------------------\n"
     ]
    },
    {
     "name": "stderr",
     "output_type": "stream",
     "text": [
      "\u001b[34m\u001b[1mval: \u001b[0mScanning /kaggle/input/badlad-domain-test-yolo-v8-seg/data/old_newspaper/labels... 345 images, 0 backgrounds, 0 corrupt: 100%|██████████| 345/345 [00:09<00:00, 36.72it/s]\n",
      "\u001b[34m\u001b[1mval: \u001b[0mWARNING ⚠️ /kaggle/input/badlad-domain-test-yolo-v8-seg/data/old_newspaper/images/e843bee0-b48e-4d22-b7f4-6faf99458203.png: 1 duplicate labels removed\n",
      "\u001b[34m\u001b[1mval: \u001b[0mWARNING ⚠️ Cache directory /kaggle/input/badlad-domain-test-yolo-v8-seg/data/old_newspaper is not writeable, cache not saved.\n",
      "                 Class     Images  Instances      Box(P          R      mAP50  mAP50-95)     Mask(P          R      mAP50  mAP50-95): 100%|██████████| 22/22 [01:10<00:00,  3.20s/it]\n",
      "                   all        345      45073      0.776      0.753      0.769       0.62      0.717       0.66      0.675      0.449\n",
      "             paragraph        345      26571      0.938      0.958      0.975      0.862      0.921      0.932      0.955      0.644\n",
      "              text_box        345      17610      0.777      0.655      0.733      0.469      0.612       0.48      0.547      0.271\n",
      "                 image        345        838      0.897      0.882      0.915      0.845      0.893       0.86      0.906      0.772\n",
      "                 table        345         54       0.49      0.519      0.455      0.307      0.441       0.37      0.293      0.108\n",
      "Speed: 2.1ms preprocess, 11.0ms inference, 0.0ms loss, 4.7ms postprocess per image\n",
      "Results saved to \u001b[1mruns/segment/val6\u001b[0m\n"
     ]
    }
   ],
   "source": [
    "for dom in domains:\n",
    "    print(\"--------------------------------------------------------\")\n",
    "    print(\"--------------------------------------------------------\")\n",
    "    print(f\"\\t domain:{dom}\")\n",
    "    print(\"--------------------------------------------------------\")\n",
    "    print(\"--------------------------------------------------------\")\n",
    "    _path=os.path.join(data_dir,dom,\"images\")\n",
    "    # yaml data format\n",
    "    data={\n",
    "            \"train\": _path, \n",
    "            \"val\": _path, \n",
    "            \"test\": _path, \n",
    "            \"nc\": 4, \n",
    "            \"names\": ['paragraph','text_box', 'image', 'table']\n",
    "        }\n",
    "\n",
    "    # Write YAML file\n",
    "    with io.open('data.yaml', 'w', encoding='utf8') as outfile:\n",
    "        yaml.dump(data, outfile, default_flow_style=False, allow_unicode=True)\n",
    "    # evaluate\n",
    "    model.val(data=\"data.yaml\",batch=16,device=0)"
   ]
  },
  {
   "cell_type": "code",
   "execution_count": null,
   "id": "61fc66c1",
   "metadata": {
    "papermill": {
     "duration": 0.151571,
     "end_time": "2023-04-28T17:53:51.641461",
     "exception": false,
     "start_time": "2023-04-28T17:53:51.489890",
     "status": "completed"
    },
    "tags": []
   },
   "outputs": [],
   "source": []
  }
 ],
 "metadata": {
  "kernelspec": {
   "display_name": "Python 3",
   "language": "python",
   "name": "python3"
  },
  "language_info": {
   "codemirror_mode": {
    "name": "ipython",
    "version": 3
   },
   "file_extension": ".py",
   "mimetype": "text/x-python",
   "name": "python",
   "nbconvert_exporter": "python",
   "pygments_lexer": "ipython3",
   "version": "3.7.12"
  },
  "papermill": {
   "default_parameters": {},
   "duration": 1417.852193,
   "end_time": "2023-04-28T17:53:55.133232",
   "environment_variables": {},
   "exception": null,
   "input_path": "__notebook__.ipynb",
   "output_path": "__notebook__.ipynb",
   "parameters": {},
   "start_time": "2023-04-28T17:30:17.281039",
   "version": "2.4.0"
  },
  "widgets": {
   "application/vnd.jupyter.widget-state+json": {
    "state": {
     "0c02920093b94984aa0fb1f98260fc59": {
      "model_module": "@jupyter-widgets/controls",
      "model_module_version": "1.5.0",
      "model_name": "HTMLModel",
      "state": {
       "_dom_classes": [],
       "_model_module": "@jupyter-widgets/controls",
       "_model_module_version": "1.5.0",
       "_model_name": "HTMLModel",
       "_view_count": null,
       "_view_module": "@jupyter-widgets/controls",
       "_view_module_version": "1.5.0",
       "_view_name": "HTMLView",
       "description": "",
       "description_tooltip": null,
       "layout": "IPY_MODEL_6612b31c4fbd4396930bc691a296982d",
       "placeholder": "​",
       "style": "IPY_MODEL_8f6ce90334a4475da71dde2cdb238464",
       "value": "100%"
      }
     },
     "133c50bdeb354b0d8c303928dc55b2ab": {
      "model_module": "@jupyter-widgets/controls",
      "model_module_version": "1.5.0",
      "model_name": "FloatProgressModel",
      "state": {
       "_dom_classes": [],
       "_model_module": "@jupyter-widgets/controls",
       "_model_module_version": "1.5.0",
       "_model_name": "FloatProgressModel",
       "_view_count": null,
       "_view_module": "@jupyter-widgets/controls",
       "_view_module_version": "1.5.0",
       "_view_name": "ProgressView",
       "bar_style": "success",
       "description": "",
       "description_tooltip": null,
       "layout": "IPY_MODEL_7f15cff341ef483a8a6a7dee14b1e66e",
       "max": 773236.0,
       "min": 0.0,
       "orientation": "horizontal",
       "style": "IPY_MODEL_ec3f5a384c9048cf938f66cc4756d36a",
       "value": 773236.0
      }
     },
     "3506da0ff5924d1cbb040b41bf0d9e1e": {
      "model_module": "@jupyter-widgets/base",
      "model_module_version": "1.2.0",
      "model_name": "LayoutModel",
      "state": {
       "_model_module": "@jupyter-widgets/base",
       "_model_module_version": "1.2.0",
       "_model_name": "LayoutModel",
       "_view_count": null,
       "_view_module": "@jupyter-widgets/base",
       "_view_module_version": "1.2.0",
       "_view_name": "LayoutView",
       "align_content": null,
       "align_items": null,
       "align_self": null,
       "border": null,
       "bottom": null,
       "display": null,
       "flex": null,
       "flex_flow": null,
       "grid_area": null,
       "grid_auto_columns": null,
       "grid_auto_flow": null,
       "grid_auto_rows": null,
       "grid_column": null,
       "grid_gap": null,
       "grid_row": null,
       "grid_template_areas": null,
       "grid_template_columns": null,
       "grid_template_rows": null,
       "height": null,
       "justify_content": null,
       "justify_items": null,
       "left": null,
       "margin": null,
       "max_height": null,
       "max_width": null,
       "min_height": null,
       "min_width": null,
       "object_fit": null,
       "object_position": null,
       "order": null,
       "overflow": null,
       "overflow_x": null,
       "overflow_y": null,
       "padding": null,
       "right": null,
       "top": null,
       "visibility": null,
       "width": null
      }
     },
     "6612b31c4fbd4396930bc691a296982d": {
      "model_module": "@jupyter-widgets/base",
      "model_module_version": "1.2.0",
      "model_name": "LayoutModel",
      "state": {
       "_model_module": "@jupyter-widgets/base",
       "_model_module_version": "1.2.0",
       "_model_name": "LayoutModel",
       "_view_count": null,
       "_view_module": "@jupyter-widgets/base",
       "_view_module_version": "1.2.0",
       "_view_name": "LayoutView",
       "align_content": null,
       "align_items": null,
       "align_self": null,
       "border": null,
       "bottom": null,
       "display": null,
       "flex": null,
       "flex_flow": null,
       "grid_area": null,
       "grid_auto_columns": null,
       "grid_auto_flow": null,
       "grid_auto_rows": null,
       "grid_column": null,
       "grid_gap": null,
       "grid_row": null,
       "grid_template_areas": null,
       "grid_template_columns": null,
       "grid_template_rows": null,
       "height": null,
       "justify_content": null,
       "justify_items": null,
       "left": null,
       "margin": null,
       "max_height": null,
       "max_width": null,
       "min_height": null,
       "min_width": null,
       "object_fit": null,
       "object_position": null,
       "order": null,
       "overflow": null,
       "overflow_x": null,
       "overflow_y": null,
       "padding": null,
       "right": null,
       "top": null,
       "visibility": null,
       "width": null
      }
     },
     "75a5508656ff4c34bc9736ba75461ac8": {
      "model_module": "@jupyter-widgets/controls",
      "model_module_version": "1.5.0",
      "model_name": "HBoxModel",
      "state": {
       "_dom_classes": [],
       "_model_module": "@jupyter-widgets/controls",
       "_model_module_version": "1.5.0",
       "_model_name": "HBoxModel",
       "_view_count": null,
       "_view_module": "@jupyter-widgets/controls",
       "_view_module_version": "1.5.0",
       "_view_name": "HBoxView",
       "box_style": "",
       "children": [
        "IPY_MODEL_0c02920093b94984aa0fb1f98260fc59",
        "IPY_MODEL_133c50bdeb354b0d8c303928dc55b2ab",
        "IPY_MODEL_b78364ffffba4a50a9bd54ad69a040d2"
       ],
       "layout": "IPY_MODEL_c2933d4754d4469aba00f49d98114ebc"
      }
     },
     "7f15cff341ef483a8a6a7dee14b1e66e": {
      "model_module": "@jupyter-widgets/base",
      "model_module_version": "1.2.0",
      "model_name": "LayoutModel",
      "state": {
       "_model_module": "@jupyter-widgets/base",
       "_model_module_version": "1.2.0",
       "_model_name": "LayoutModel",
       "_view_count": null,
       "_view_module": "@jupyter-widgets/base",
       "_view_module_version": "1.2.0",
       "_view_name": "LayoutView",
       "align_content": null,
       "align_items": null,
       "align_self": null,
       "border": null,
       "bottom": null,
       "display": null,
       "flex": null,
       "flex_flow": null,
       "grid_area": null,
       "grid_auto_columns": null,
       "grid_auto_flow": null,
       "grid_auto_rows": null,
       "grid_column": null,
       "grid_gap": null,
       "grid_row": null,
       "grid_template_areas": null,
       "grid_template_columns": null,
       "grid_template_rows": null,
       "height": null,
       "justify_content": null,
       "justify_items": null,
       "left": null,
       "margin": null,
       "max_height": null,
       "max_width": null,
       "min_height": null,
       "min_width": null,
       "object_fit": null,
       "object_position": null,
       "order": null,
       "overflow": null,
       "overflow_x": null,
       "overflow_y": null,
       "padding": null,
       "right": null,
       "top": null,
       "visibility": null,
       "width": null
      }
     },
     "8f6ce90334a4475da71dde2cdb238464": {
      "model_module": "@jupyter-widgets/controls",
      "model_module_version": "1.5.0",
      "model_name": "DescriptionStyleModel",
      "state": {
       "_model_module": "@jupyter-widgets/controls",
       "_model_module_version": "1.5.0",
       "_model_name": "DescriptionStyleModel",
       "_view_count": null,
       "_view_module": "@jupyter-widgets/base",
       "_view_module_version": "1.2.0",
       "_view_name": "StyleView",
       "description_width": ""
      }
     },
     "b78364ffffba4a50a9bd54ad69a040d2": {
      "model_module": "@jupyter-widgets/controls",
      "model_module_version": "1.5.0",
      "model_name": "HTMLModel",
      "state": {
       "_dom_classes": [],
       "_model_module": "@jupyter-widgets/controls",
       "_model_module_version": "1.5.0",
       "_model_name": "HTMLModel",
       "_view_count": null,
       "_view_module": "@jupyter-widgets/controls",
       "_view_module_version": "1.5.0",
       "_view_name": "HTMLView",
       "description": "",
       "description_tooltip": null,
       "layout": "IPY_MODEL_3506da0ff5924d1cbb040b41bf0d9e1e",
       "placeholder": "​",
       "style": "IPY_MODEL_bda4e3080f2f4ba1a04faca105777c6c",
       "value": " 755k/755k [00:00&lt;00:00, 11.9MB/s]"
      }
     },
     "bda4e3080f2f4ba1a04faca105777c6c": {
      "model_module": "@jupyter-widgets/controls",
      "model_module_version": "1.5.0",
      "model_name": "DescriptionStyleModel",
      "state": {
       "_model_module": "@jupyter-widgets/controls",
       "_model_module_version": "1.5.0",
       "_model_name": "DescriptionStyleModel",
       "_view_count": null,
       "_view_module": "@jupyter-widgets/base",
       "_view_module_version": "1.2.0",
       "_view_name": "StyleView",
       "description_width": ""
      }
     },
     "c2933d4754d4469aba00f49d98114ebc": {
      "model_module": "@jupyter-widgets/base",
      "model_module_version": "1.2.0",
      "model_name": "LayoutModel",
      "state": {
       "_model_module": "@jupyter-widgets/base",
       "_model_module_version": "1.2.0",
       "_model_name": "LayoutModel",
       "_view_count": null,
       "_view_module": "@jupyter-widgets/base",
       "_view_module_version": "1.2.0",
       "_view_name": "LayoutView",
       "align_content": null,
       "align_items": null,
       "align_self": null,
       "border": null,
       "bottom": null,
       "display": null,
       "flex": null,
       "flex_flow": null,
       "grid_area": null,
       "grid_auto_columns": null,
       "grid_auto_flow": null,
       "grid_auto_rows": null,
       "grid_column": null,
       "grid_gap": null,
       "grid_row": null,
       "grid_template_areas": null,
       "grid_template_columns": null,
       "grid_template_rows": null,
       "height": null,
       "justify_content": null,
       "justify_items": null,
       "left": null,
       "margin": null,
       "max_height": null,
       "max_width": null,
       "min_height": null,
       "min_width": null,
       "object_fit": null,
       "object_position": null,
       "order": null,
       "overflow": null,
       "overflow_x": null,
       "overflow_y": null,
       "padding": null,
       "right": null,
       "top": null,
       "visibility": null,
       "width": null
      }
     },
     "ec3f5a384c9048cf938f66cc4756d36a": {
      "model_module": "@jupyter-widgets/controls",
      "model_module_version": "1.5.0",
      "model_name": "ProgressStyleModel",
      "state": {
       "_model_module": "@jupyter-widgets/controls",
       "_model_module_version": "1.5.0",
       "_model_name": "ProgressStyleModel",
       "_view_count": null,
       "_view_module": "@jupyter-widgets/base",
       "_view_module_version": "1.2.0",
       "_view_name": "StyleView",
       "bar_color": null,
       "description_width": ""
      }
     }
    },
    "version_major": 2,
    "version_minor": 0
   }
  }
 },
 "nbformat": 4,
 "nbformat_minor": 5
}
